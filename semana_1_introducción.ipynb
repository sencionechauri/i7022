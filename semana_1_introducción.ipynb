{
  "cells": [
    {
      "cell_type": "markdown",
      "source": [
        "<h1> <p style = \"text-align:center;\"> Introducción a la Computación </p>"
      ],
      "metadata": {
        "nteract": {
          "transient": {
            "deleting": false
          }
        }
      }
    },
    {
      "cell_type": "code",
      "source": [
        "%%html\n",
        "<center><iframe src=\"https://drive.google.com/file/d/1H8g-U_HRR43a8z7sqs-5T5NpU34qSaVS/preview\" width=\"320\" height=\"240\"></iframe></center>\n",
        "<center><h3>Vídeo</center>"
      ],
      "outputs": [],
      "execution_count": null,
      "metadata": {
        "collapsed": true,
        "jupyter": {
          "source_hidden": false,
          "outputs_hidden": false
        },
        "nteract": {
          "transient": {
            "deleting": false
          }
        },
        "execution": {
          "iopub.status.busy": "2020-09-10T06:36:31.374Z",
          "iopub.execute_input": "2020-09-10T06:36:31.424Z",
          "iopub.status.idle": "2020-09-10T06:36:31.693Z",
          "shell.execute_reply": "2020-09-10T06:36:31.762Z"
        }
      }
    },
    {
      "cell_type": "markdown",
      "source": [
        "### ¿Qué es el cómputo?\n",
        "\n",
        "* Es cualquier tipo de **cálculo** que sigue un modelo bien definido, entendido y expresado como, por ejemplo, un algoritmo. El estudio del cómputo es un pilar para la disciplina de la ciencia de la computación.\n",
        "\n",
        "* Un cálculo involucrando números o cantidades"
      ],
      "metadata": {
        "nteract": {
          "transient": {
            "deleting": false
          }
        }
      }
    },
    {
      "cell_type": "markdown",
      "source": [
        "<h2> <p style = \"text-align:center;\"> Algo de historia </p>"
      ],
      "metadata": {
        "nteract": {
          "transient": {
            "deleting": false
          }
        }
      }
    },
    {
      "cell_type": "markdown",
      "source": [
        "La humanidad ha utilizado herramientas de cálculo en los pasados 2000 años:\n",
        "\n",
        "* Ábaco\n",
        "* Barras de Napier\n",
        "* Logaritmos\n",
        "* Computadoras análogas\n",
        "* Gadgets"
      ],
      "metadata": {
        "nteract": {
          "transient": {
            "deleting": false
          }
        }
      }
    },
    {
      "cell_type": "markdown",
      "source": [
        "<h3> <p style = \"text-align : center;\">Ábaco</p>\n",
        "\n",
        "<center><img src=\"https://raw.githubusercontent.com/sencionechauri/i7022/master/media/abaco.jpg\"/></center>"
      ],
      "metadata": {
        "nteract": {
          "transient": {
            "deleting": false
          }
        }
      }
    },
    {
      "cell_type": "markdown",
      "source": [
        "Con los complejos sistemas de operaciones que tenemos hoy en día, resulta difícil comprender que las personas usaban pequeñas piedras u otros objetos como dispositivos numéricos.\n",
        "\n",
        "La palabra cálculo, en sí, viene del latín _calculus_, que significa piedra pequeña."
      ],
      "metadata": {
        "nteract": {
          "transient": {
            "deleting": false
          }
        }
      }
    },
    {
      "cell_type": "markdown",
      "source": [
        "No se sabe con exactitud cuándo fueron desarrollados los primeros dispositivos para facilitar el cálculo, como las tablas de contar o el ábaco.\n",
        "\n",
        "Hay información no comprobada, de un dispositivo similar a un ábaco que fue usado en Babilonia alrededor del año 2400 A.C."
      ],
      "metadata": {
        "nteract": {
          "transient": {
            "deleting": false
          }
        }
      }
    },
    {
      "cell_type": "markdown",
      "source": [
        "La primer información escrita sobre el ábaco (que ha sobrevivido hasta la fecha) proviene del historiador griego Herodoto (480-425 A.C.), quien mencionó que los antiguos egipcios utilizaban el ábaco."
      ],
      "metadata": {
        "nteract": {
          "transient": {
            "deleting": false
          }
        }
      }
    },
    {
      "cell_type": "markdown",
      "source": [
        "<h3> <p style = \"text-align : center;\"> Barras o Huesos de Napier </p>\n",
        "\n",
        "<center><img src=\"https://raw.githubusercontent.com/sencionechauri/i7022/master/media/napier_1.png\"/></center>"
      ],
      "metadata": {
        "nteract": {
          "transient": {
            "deleting": false
          }
        }
      }
    },
    {
      "cell_type": "markdown",
      "source": [
        "En Edimburgo en 1617 después de la muerte de John Napier, se publicó su pequeño libro _Rabdologiae seu Numerationis per Virgulas libri duo._"
      ],
      "metadata": {
        "nteract": {
          "transient": {
            "deleting": false
          }
        }
      }
    },
    {
      "cell_type": "markdown",
      "source": [
        "Buscando aminorar sus propias dificultades al calcular tablas de logaritmos e impaciente con los tediosos procesos para trabajar con números grandes (que además eran propensos a fallas), Napier inventó varios mecanismos para simplificar y acelerar las multiplicaciones, siendo las más famosas unas barras especiales que posteriormente se conocerían como los huesos de Napier.\n",
        "\n",
        "![napier_2](https://raw.githubusercontent.com/sencionechauri/i7022/master/media/napier_2.png \"Multiplicación de cifras grandes\")"
      ],
      "metadata": {
        "nteract": {
          "transient": {
            "deleting": false
          }
        }
      }
    },
    {
      "cell_type": "markdown",
      "source": [
        "<h3> <p style = \"text-align : center;\"> Logaritmos </p>\n",
        "\n",
        "<center><img src=\"https://raw.githubusercontent.com/sencionechauri/i7022/master/media/logaritmos.png\" /><center>"
      ],
      "metadata": {
        "nteract": {
          "transient": {
            "deleting": false
          }
        }
      }
    },
    {
      "cell_type": "markdown",
      "source": [
        "En Julio de 1614 en Edinburgo, Escocia, se publicó un pequeño libro (57 páginas de explicación y 90 páginas de tablas) que haría un avance clave en el uso de las mtemáticas. El libro era la _Descripción del maravilloso canon de logaritmos_, escrito por John Napier."
      ],
      "metadata": {
        "nteract": {
          "transient": {
            "deleting": false
          }
        }
      }
    },
    {
      "cell_type": "markdown",
      "source": [
        "En su libro, Napier propone un método el cuál permitía que las operaciones aritméticas más complicadas, como las multiplicaciones, divisiones y raíces fueran resueltas a través de sumas y restas. \n",
        "\n",
        "Él notó que todos los números se pueden expresar en lo que ahora es llamado notación exponencial, esto es, que por ejemeplo 8 puede ser expresado como 2<sup>3</sup> y 25 como 5<sup>2</sup>."
      ],
      "metadata": {
        "nteract": {
          "transient": {
            "deleting": false
          }
        }
      }
    },
    {
      "cell_type": "markdown",
      "source": [
        "Lo que hace a los logaritmos tan útiles es el hecho de que las operaciones de multiplicación y división son reducidas a simples sumas y restas. Cuando los números muy grandes se expresan como logaritmos, la multiplicación se vuelve la suma de sus exponentes."
      ],
      "metadata": {
        "nteract": {
          "transient": {
            "deleting": false
          }
        }
      }
    },
    {
      "cell_type": "markdown",
      "source": [
        "<p style = \"text-align : center\"> <b>32</b> = <b>2<sup>5</sup></b> </p>\n",
        "<p style = \"text-align : center\"> <b>8192</b> = <b>2<sup>13</sup></b> </p>\n",
        "<p style = \"text-align : center\"> <b>8192*32</b> = <b>2<sup>13</sup></b>+<b>2<sup>5</sup></b> = <b>2<sup>18</sup></b> = <b> 262144 </b></p>"
      ],
      "metadata": {
        "nteract": {
          "transient": {
            "deleting": false
          }
        }
      }
    },
    {
      "cell_type": "markdown",
      "source": [
        "<h2><p style = \"text-align : center;\"> Computadoras Analógicas</p>"
      ],
      "metadata": {
        "nteract": {
          "transient": {
            "deleting": false
          }
        }
      }
    },
    {
      "cell_type": "markdown",
      "source": [
        "En un tiempo, cuando las computadoras digitales no existían o carecían de un buen desempeño, las computadoras analogicas fueron ampliamente usadas.\n",
        "\n",
        "Algunos ejemplos son:\n",
        "* El carro que apunta al sur\n",
        "* Pantómetra\t\n",
        "* Astrolabio\t\n",
        "* Integrador hidráulico"
      ],
      "metadata": {
        "nteract": {
          "transient": {
            "deleting": false
          }
        }
      }
    },
    {
      "cell_type": "markdown",
      "source": [
        "<h3> <p style = \"text-align : center;\"> El carro que apunta al sur </p>\n",
        "\n",
        "<center><img src = \"https://raw.githubusercontent.com/sencionechauri/i7022/master/media/carro.jpg \" /> </center>"
      ],
      "metadata": {
        "nteract": {
          "transient": {
            "deleting": false
          }
        }
      }
    },
    {
      "cell_type": "markdown",
      "source": [
        "El carro que apunta al sur era un antiguo vehículo con engranes utilizado para discernir la dirección sur cardinal.\n",
        "\n",
        "En la mayoría de los dibujos el carro que apunta al sur es descrito como un carro jalado por un caballo en el cual está una figura cuyo brazo apunta al sur y continúa haciéndolo sin importar en qué dirección sea llevado."
      ],
      "metadata": {
        "nteract": {
          "transient": {
            "deleting": false
          }
        }
      }
    },
    {
      "cell_type": "markdown",
      "source": [
        "Se cree que la moyoría de los carros que apuntan al sur, si no es que todos, trabajaban por medio de engranes diferenciales."
      ],
      "metadata": {
        "nteract": {
          "transient": {
            "deleting": false
          }
        }
      }
    },
    {
      "cell_type": "markdown",
      "source": [
        "<h3> <p style = \"text-align : center;\"> Pantómetra </p>\n",
        "\n",
        "<center><img src= \"https://raw.githubusercontent.com/sencionechauri/i7022/master/media/sector.jpg\" /></center>"
      ],
      "metadata": {
        "nteract": {
          "transient": {
            "deleting": false
          }
        }
      }
    },
    {
      "cell_type": "markdown",
      "source": [
        "La pantómetra (También conocida como compás de proporción) es un instrumento de medición ubicuo, consistente en dos reglas de igual longitud unidos por una bisagra que estuvo en uso desde el fin del siglo XVI hasta el siglo XIX"
      ],
      "metadata": {
        "nteract": {
          "transient": {
            "deleting": false
          }
        }
      }
    },
    {
      "cell_type": "markdown",
      "source": [
        "El dispositivo original (creado por F. Mordente) era un compás de proporción para medir la fracción más pequeña de un grado utilizando marcadores deslizables. Basado en sus posiciones, era posible establecer las proporciones entre líneas, figuras geométricas y cuerpos sólidos."
      ],
      "metadata": {
        "nteract": {
          "transient": {
            "deleting": false
          }
        }
      }
    },
    {
      "cell_type": "markdown",
      "source": [
        "<h3> <p style = \"text-align : center;\"> Astrolabio </p>\n",
        "\n",
        "<center><img src=\"https://raw.githubusercontent.com/sencionechauri/i7022/master/media/astrolabio.jpg\"/></center>"
      ],
      "metadata": {
        "nteract": {
          "transient": {
            "deleting": false
          }
        }
      }
    },
    {
      "cell_type": "markdown",
      "source": [
        "El astrolabio es un inclinómetro sofisticado utilizado en el pasado por astrónomos, astrólogos y navegadores principalmente para localizar y predecir la posición del sol, la luna, planetas y estrellas, determinar la hora dada la latitud y viceversa, para triangulación y búsqueda."
      ],
      "metadata": {
        "nteract": {
          "transient": {
            "deleting": false
          }
        }
      }
    },
    {
      "cell_type": "markdown",
      "source": [
        "<h3> <p style = \"text-align : center;\"> Integrador Hidráulico </p>\n",
        "\n",
        "<center><img src=\"https://raw.githubusercontent.com/sencionechauri/i7022/master/media/integrador.jpg\"/></center>"
      ],
      "metadata": {
        "nteract": {
          "transient": {
            "deleting": false
          }
        }
      }
    },
    {
      "cell_type": "markdown",
      "source": [
        "El primer modelo (unidimensional) del integrador hidráulico fue creado en 1936. Era un dispositivo primitivo creado de hierro, hoja de lata y tubos de vidrio, pero resolvió satisfactoriamente el problema de investigar los régimes de la temperatura del concreto."
      ],
      "metadata": {
        "nteract": {
          "transient": {
            "deleting": false
          }
        }
      }
    },
    {
      "cell_type": "markdown",
      "source": [
        "Más aún, fue la primer máquina calculadora controlada por agua en el mundo, así como la primer computadora en resolver ecuaciones diferenciales en derivadas parciales."
      ],
      "metadata": {
        "nteract": {
          "transient": {
            "deleting": false
          }
        }
      }
    },
    {
      "cell_type": "markdown",
      "source": [
        "<h3><p style = \"text-align : center;\"> Aparatos </p>"
      ],
      "metadata": {
        "nteract": {
          "transient": {
            "deleting": false
          }
        }
      }
    },
    {
      "cell_type": "markdown",
      "source": [
        "Algunos dispositivos de cálculo que lograron cierta notoriedad son los siguientes:\n",
        "\n",
        "* Mecanismo antikythera (primer siglo A.C.)\n",
        "* Joya aritmética (1616, William Pratt)\n",
        "* Compendio aritmético (1667, Charles Cotterel)\n",
        "* Rotula arithmetica (1700, George Brown)\n",
        "* Aparato para hacer cálculos (1842, Francis Marston)\n",
        "* Computador similar a un reloj (1843, Jean-Paul Garnier)\n",
        "* Máquina para calcular interés, midiendo leña y para otros porpósitos (1844, Jehu Hatfield)\n",
        "* Teclado aritmético (1846, Policarpo de Balzola)"
      ],
      "metadata": {
        "nteract": {
          "transient": {
            "deleting": false
          }
        }
      }
    },
    {
      "cell_type": "markdown",
      "source": [
        "#### Referencias\n",
        "Calculating tools. (n.d.). Consultado Agosto 29, 2020, de https://history-computer.com/CalculatingTools/calc_tools.html"
      ],
      "metadata": {
        "nteract": {
          "transient": {
            "deleting": false
          }
        }
      }
    }
  ],
  "metadata": {
    "kernel_info": {
      "name": "python3"
    },
    "language_info": {
      "name": "python",
      "version": "3.7.3",
      "mimetype": "text/x-python",
      "codemirror_mode": {
        "name": "ipython",
        "version": 3
      },
      "pygments_lexer": "ipython3",
      "nbconvert_exporter": "python",
      "file_extension": ".py"
    },
    "kernelspec": {
      "argv": [
        "python",
        "-m",
        "ipykernel_launcher",
        "-f",
        "{connection_file}"
      ],
      "display_name": "Python 3",
      "language": "python",
      "name": "python3"
    },
    "nteract": {
      "version": "0.25.0"
    }
  },
  "nbformat": 4,
  "nbformat_minor": 0
}