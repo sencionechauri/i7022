{
  "cells": [
    {
      "cell_type": "markdown",
      "source": [
        "# <center>Operadores Aritméticos</center>"
      ],
      "metadata": {
        "nteract": {
          "transient": {
            "deleting": false
          }
        }
      }
    },
    {
      "cell_type": "markdown",
      "source": [
        "Un elemento fundamental de cualquier lenguaje de programación es la capacidad de realizar operaciones aritméticas, de hecho el origen de la palabra cómputo está relacionado con realizar cálculos. En este notebook revisaremos los operdores aritméticos en Python y mostraremos algunos ejemplos de uso."
      ],
      "metadata": {
        "nteract": {
          "transient": {
            "deleting": false
          }
        }
      }
    },
    {
      "cell_type": "markdown",
      "source": [
        "## <center>Operadores</center>\n",
        "\n",
        "Operador | Operación\n",
        "--- | ---\n",
        "= | Asignación\n",
        "+ | Suma\n",
        "- | Resta\n",
        "\\* | Multiplicación\n",
        "/ | División\n",
        "// | División entera\n",
        "% | Módulo\n",
        "\\*\\* | Potencia\n",
        "\n",
        "**Nota**: Se pueden agrupar expresiones utilizando paréntesis en caso de necesitar modificar la prioridad de las operaciones"
      ],
      "metadata": {
        "nteract": {
          "transient": {
            "deleting": false
          }
        }
      }
    },
    {
      "cell_type": "markdown",
      "source": [
        "## <center>Asignación</center>\n",
        "\n",
        "Pudiera parecer un tanto extraño decir que una asignación es una operación, sin embargo lo es y de hecho ya desde el tema anterior la utilizamos para dar valor a nuestras variables. \n",
        "\n",
        "La asignación es una operación binaria y *asigna* (¿obvio no?) a la variable o constante del lado izquierdo el valor del lado derecho de la igualdad $=$.\n",
        "\n",
        "**OJO con esto, la asignación es univoca o en un sólo sentido. La parte izquierda de la igualdad recibe el valor de la parte derecha y no al revés.**. "
      ],
      "metadata": {
        "nteract": {
          "transient": {
            "deleting": false
          }
        }
      }
    },
    {
      "cell_type": "code",
      "source": [
        "#Una asignación\n",
        "variable = 33\n",
        "#¿Cuánto vale variable?\n",
        "variable"
      ],
      "outputs": [],
      "execution_count": null,
      "metadata": {
        "collapsed": true,
        "jupyter": {
          "source_hidden": false,
          "outputs_hidden": false
        },
        "nteract": {
          "transient": {
            "deleting": false
          }
        },
        "execution": {
          "iopub.status.busy": "2020-09-23T20:05:54.263Z",
          "iopub.execute_input": "2020-09-23T20:05:54.322Z",
          "iopub.status.idle": "2020-09-23T20:05:54.469Z",
          "shell.execute_reply": "2020-09-23T20:05:54.534Z"
        }
      }
    },
    {
      "cell_type": "code",
      "source": [
        "#Si ahora preguntamos cuánto vale 33\n",
        "33\n",
        "#El resultado es 33. 33 no vale variable pero variable vale 33"
      ],
      "outputs": [],
      "execution_count": null,
      "metadata": {
        "collapsed": true,
        "jupyter": {
          "source_hidden": false,
          "outputs_hidden": false
        },
        "nteract": {
          "transient": {
            "deleting": false
          }
        },
        "execution": {
          "iopub.status.busy": "2020-09-23T20:07:00.615Z",
          "iopub.execute_input": "2020-09-23T20:07:00.679Z",
          "iopub.status.idle": "2020-09-23T20:07:01.025Z",
          "shell.execute_reply": "2020-09-23T20:07:01.082Z"
        }
      }
    },
    {
      "cell_type": "code",
      "source": [
        "#Una asignación errónea\n",
        "33 = variable"
      ],
      "outputs": [],
      "execution_count": null,
      "metadata": {
        "collapsed": true,
        "jupyter": {
          "source_hidden": false,
          "outputs_hidden": false
        },
        "nteract": {
          "transient": {
            "deleting": false
          }
        },
        "execution": {
          "iopub.status.busy": "2020-09-23T20:07:27.792Z",
          "iopub.execute_input": "2020-09-23T20:07:27.871Z",
          "iopub.status.idle": "2020-09-23T20:07:28.292Z",
          "shell.execute_reply": "2020-09-23T20:07:28.339Z"
        }
      }
    },
    {
      "cell_type": "markdown",
      "source": [
        "## <center>Suma</center>\n",
        "\n",
        "La suma es una operación binaria como todas las que revisaremos en este cuaderno y es consistente con lo que conocemos del álgebra. Toma dos operandos y suma sus valores. EL símbolo $+$ también puede ser utilizado para indicar que el valor de un número es positivo."
      ],
      "metadata": {
        "nteract": {
          "transient": {
            "deleting": false
          }
        }
      }
    },
    {
      "cell_type": "code",
      "source": [
        "3+5"
      ],
      "outputs": [],
      "execution_count": null,
      "metadata": {
        "collapsed": true,
        "jupyter": {
          "source_hidden": false,
          "outputs_hidden": false
        },
        "nteract": {
          "transient": {
            "deleting": false
          }
        },
        "execution": {
          "iopub.status.busy": "2020-09-23T20:24:33.007Z",
          "iopub.execute_input": "2020-09-23T20:24:33.079Z",
          "iopub.status.idle": "2020-09-23T20:24:33.236Z",
          "shell.execute_reply": "2020-09-23T20:24:33.297Z"
        }
      }
    },
    {
      "cell_type": "code",
      "source": [
        "2+3.3"
      ],
      "outputs": [],
      "execution_count": null,
      "metadata": {
        "collapsed": true,
        "jupyter": {
          "source_hidden": false,
          "outputs_hidden": false
        },
        "nteract": {
          "transient": {
            "deleting": false
          }
        },
        "execution": {
          "iopub.status.busy": "2020-09-23T20:24:49.559Z",
          "iopub.execute_input": "2020-09-23T20:24:49.622Z",
          "iopub.status.idle": "2020-09-23T20:24:49.748Z",
          "shell.execute_reply": "2020-09-23T20:24:49.806Z"
        }
      }
    },
    {
      "cell_type": "code",
      "source": [
        "n1 = -5\n",
        "n2 = 7\n",
        "n1 + n2"
      ],
      "outputs": [],
      "execution_count": null,
      "metadata": {
        "collapsed": true,
        "jupyter": {
          "source_hidden": false,
          "outputs_hidden": false
        },
        "nteract": {
          "transient": {
            "deleting": false
          }
        },
        "execution": {
          "iopub.status.busy": "2020-09-23T20:25:24.520Z",
          "iopub.execute_input": "2020-09-23T20:25:24.580Z",
          "iopub.status.idle": "2020-09-23T20:25:24.709Z",
          "shell.execute_reply": "2020-09-23T20:25:24.766Z"
        }
      }
    },
    {
      "cell_type": "code",
      "source": [
        "#Podemos encadenar sumas y se realizarán de izquierda a derecha\n",
        "1 + 3 + 5 + 7"
      ],
      "outputs": [],
      "execution_count": null,
      "metadata": {
        "collapsed": true,
        "jupyter": {
          "source_hidden": false,
          "outputs_hidden": false
        },
        "nteract": {
          "transient": {
            "deleting": false
          }
        },
        "execution": {
          "iopub.status.busy": "2020-09-23T20:27:26.093Z",
          "iopub.execute_input": "2020-09-23T20:27:26.177Z",
          "iopub.status.idle": "2020-09-23T20:27:26.296Z",
          "shell.execute_reply": "2020-09-23T20:27:26.350Z"
        }
      }
    },
    {
      "cell_type": "markdown",
      "source": [
        "## <center>Resta</center>\n",
        "\n",
        "La suma es una operación binaria y es consistente con lo que conocemos del álgebra. Toma dos operandos y resta el valor del segundo operando al valor del primero. EL símbolo $-$ también puede ser utilizado para indicar que el valor de un número es negativo."
      ],
      "metadata": {
        "nteract": {
          "transient": {
            "deleting": false
          }
        }
      }
    },
    {
      "cell_type": "code",
      "source": [
        "3-5"
      ],
      "outputs": [],
      "execution_count": null,
      "metadata": {
        "collapsed": true,
        "jupyter": {
          "source_hidden": false,
          "outputs_hidden": false
        },
        "nteract": {
          "transient": {
            "deleting": false
          }
        },
        "execution": {
          "iopub.status.busy": "2020-09-23T20:41:58.267Z",
          "iopub.execute_input": "2020-09-23T20:41:58.339Z",
          "iopub.status.idle": "2020-09-23T20:41:58.494Z",
          "shell.execute_reply": "2020-09-23T20:41:58.563Z"
        }
      }
    },
    {
      "cell_type": "code",
      "source": [
        "3.5 - 2"
      ],
      "outputs": [],
      "execution_count": null,
      "metadata": {
        "collapsed": true,
        "jupyter": {
          "source_hidden": false,
          "outputs_hidden": false
        },
        "nteract": {
          "transient": {
            "deleting": false
          }
        },
        "execution": {
          "iopub.status.busy": "2020-09-23T20:42:32.792Z",
          "iopub.execute_input": "2020-09-23T20:42:32.855Z",
          "iopub.status.idle": "2020-09-23T20:42:32.985Z",
          "shell.execute_reply": "2020-09-23T20:42:33.044Z"
        }
      }
    },
    {
      "cell_type": "code",
      "source": [
        "var_1 = 44\n",
        "var_2 = 33\n",
        "var_1 - var_2"
      ],
      "outputs": [],
      "execution_count": null,
      "metadata": {
        "collapsed": true,
        "jupyter": {
          "source_hidden": false,
          "outputs_hidden": false
        },
        "nteract": {
          "transient": {
            "deleting": false
          }
        },
        "execution": {
          "iopub.status.busy": "2020-09-23T20:43:38.805Z",
          "iopub.execute_input": "2020-09-23T20:43:38.866Z",
          "iopub.status.idle": "2020-09-23T20:43:39.018Z",
          "shell.execute_reply": "2020-09-23T20:43:39.081Z"
        }
      }
    },
    {
      "cell_type": "code",
      "source": [
        "#Podemos encadenar restas y se realizarán de izquierda a derecha\n",
        "2 - 4 - 6 - 8"
      ],
      "outputs": [],
      "execution_count": null,
      "metadata": {
        "collapsed": true,
        "jupyter": {
          "source_hidden": false,
          "outputs_hidden": false
        },
        "nteract": {
          "transient": {
            "deleting": false
          }
        },
        "execution": {
          "iopub.status.busy": "2020-09-23T20:44:02.359Z",
          "iopub.execute_input": "2020-09-23T20:44:02.424Z",
          "iopub.status.idle": "2020-09-23T20:44:02.552Z",
          "shell.execute_reply": "2020-09-23T20:44:02.615Z"
        }
      }
    },
    {
      "cell_type": "markdown",
      "source": [
        "## <center>Multiplicación</center>\n",
        "\n",
        "La multiplicación es una operación binaria y es consistente con lo que conocemos del álgebra. Toma dos operandos y multiplica el valor de ambos operandos."
      ],
      "metadata": {
        "nteract": {
          "transient": {
            "deleting": false
          }
        }
      }
    },
    {
      "cell_type": "code",
      "source": [
        "3*5"
      ],
      "outputs": [],
      "execution_count": null,
      "metadata": {
        "collapsed": true,
        "jupyter": {
          "source_hidden": false,
          "outputs_hidden": false
        },
        "nteract": {
          "transient": {
            "deleting": false
          }
        },
        "execution": {
          "iopub.status.busy": "2020-09-23T20:46:49.132Z",
          "iopub.execute_input": "2020-09-23T20:46:49.205Z",
          "iopub.status.idle": "2020-09-23T20:46:49.368Z",
          "shell.execute_reply": "2020-09-23T20:46:49.438Z"
        }
      }
    },
    {
      "cell_type": "code",
      "source": [
        "2 * 3.3"
      ],
      "outputs": [],
      "execution_count": null,
      "metadata": {
        "collapsed": true,
        "jupyter": {
          "source_hidden": false,
          "outputs_hidden": false
        },
        "nteract": {
          "transient": {
            "deleting": false
          }
        },
        "execution": {
          "iopub.status.busy": "2020-09-23T20:47:13.055Z",
          "iopub.execute_input": "2020-09-23T20:47:13.129Z",
          "iopub.status.idle": "2020-09-23T20:47:13.271Z",
          "shell.execute_reply": "2020-09-23T20:47:13.339Z"
        }
      }
    },
    {
      "cell_type": "code",
      "source": [
        "var_1 = 33\n",
        "var_2 = 44\n",
        "var_1 * var_2"
      ],
      "outputs": [],
      "execution_count": null,
      "metadata": {
        "collapsed": true,
        "jupyter": {
          "source_hidden": false,
          "outputs_hidden": false
        },
        "nteract": {
          "transient": {
            "deleting": false
          }
        },
        "execution": {
          "iopub.status.busy": "2020-09-23T20:47:37.432Z",
          "iopub.execute_input": "2020-09-23T20:47:37.521Z",
          "iopub.status.idle": "2020-09-23T20:47:37.699Z",
          "shell.execute_reply": "2020-09-23T20:47:37.766Z"
        }
      }
    },
    {
      "cell_type": "code",
      "source": [
        "#Podemos encadenar multiplicaciones y se realizarán de izquierda a derecha\n",
        "1 * 2 * 3 * 4"
      ],
      "outputs": [],
      "execution_count": null,
      "metadata": {
        "collapsed": true,
        "jupyter": {
          "source_hidden": false,
          "outputs_hidden": false
        },
        "nteract": {
          "transient": {
            "deleting": false
          }
        },
        "execution": {
          "iopub.status.busy": "2020-09-23T20:49:18.820Z",
          "iopub.execute_input": "2020-09-23T20:49:18.893Z",
          "iopub.status.idle": "2020-09-23T20:49:19.047Z",
          "shell.execute_reply": "2020-09-23T20:49:19.106Z"
        }
      }
    },
    {
      "cell_type": "markdown",
      "source": [
        "## <center>División</center>\n",
        "\n",
        "La división es una operación binaria y es consistente con lo que conocemos del álgebra. Toma dos operandos y divide el valor del primero entre el segundo."
      ],
      "metadata": {
        "nteract": {
          "transient": {
            "deleting": false
          }
        }
      }
    },
    {
      "cell_type": "code",
      "source": [
        "3 / 5"
      ],
      "outputs": [],
      "execution_count": null,
      "metadata": {
        "collapsed": true,
        "jupyter": {
          "source_hidden": false,
          "outputs_hidden": false
        },
        "nteract": {
          "transient": {
            "deleting": false
          }
        },
        "execution": {
          "iopub.status.busy": "2020-09-23T20:51:04.261Z",
          "iopub.execute_input": "2020-09-23T20:51:04.336Z",
          "iopub.status.idle": "2020-09-23T20:51:04.478Z",
          "shell.execute_reply": "2020-09-23T20:51:04.543Z"
        }
      }
    },
    {
      "cell_type": "code",
      "source": [
        "2 / 3.3"
      ],
      "outputs": [],
      "execution_count": null,
      "metadata": {
        "collapsed": true,
        "jupyter": {
          "source_hidden": false,
          "outputs_hidden": false
        },
        "nteract": {
          "transient": {
            "deleting": false
          }
        },
        "execution": {
          "iopub.status.busy": "2020-09-23T20:51:31.360Z",
          "iopub.execute_input": "2020-09-23T20:51:31.438Z",
          "iopub.status.idle": "2020-09-23T20:51:31.594Z",
          "shell.execute_reply": "2020-09-23T20:51:31.685Z"
        }
      }
    },
    {
      "cell_type": "code",
      "source": [
        "var_1 = 33\n",
        "var_2 = 44\n",
        "var_1 / var_2"
      ],
      "outputs": [],
      "execution_count": null,
      "metadata": {
        "collapsed": true,
        "jupyter": {
          "source_hidden": false,
          "outputs_hidden": false
        },
        "nteract": {
          "transient": {
            "deleting": false
          }
        },
        "execution": {
          "iopub.status.busy": "2020-09-23T20:52:28.420Z",
          "iopub.execute_input": "2020-09-23T20:52:28.532Z",
          "iopub.status.idle": "2020-09-23T20:52:28.694Z",
          "shell.execute_reply": "2020-09-23T20:52:28.766Z"
        }
      }
    },
    {
      "cell_type": "code",
      "source": [
        "#Podemos encadenar divisiones y se realizarán de izquierda a derecha\n",
        "5 / 4 / 3 / 2"
      ],
      "outputs": [],
      "execution_count": null,
      "metadata": {
        "collapsed": true,
        "jupyter": {
          "source_hidden": false,
          "outputs_hidden": false
        },
        "nteract": {
          "transient": {
            "deleting": false
          }
        },
        "execution": {
          "iopub.status.busy": "2020-09-23T22:17:06.523Z",
          "iopub.execute_input": "2020-09-23T22:17:06.649Z",
          "iopub.status.idle": "2020-09-23T22:17:06.880Z",
          "shell.execute_reply": "2020-09-23T22:17:06.986Z"
        }
      }
    },
    {
      "cell_type": "code",
      "source": [
        "#La división por cero no está permitida\n",
        "33 / 0"
      ],
      "outputs": [],
      "execution_count": null,
      "metadata": {
        "collapsed": true,
        "jupyter": {
          "source_hidden": false,
          "outputs_hidden": false
        },
        "nteract": {
          "transient": {
            "deleting": false
          }
        },
        "execution": {
          "iopub.status.busy": "2020-09-23T20:56:18.857Z",
          "iopub.execute_input": "2020-09-23T20:56:18.946Z",
          "iopub.status.idle": "2020-09-23T20:56:19.275Z",
          "shell.execute_reply": "2020-09-23T20:56:19.391Z"
        }
      }
    },
    {
      "cell_type": "markdown",
      "source": [
        "## <center>División Entera</center>\n",
        "\n",
        "La división entera es una operación binaria, toma dos operandos y divide el valor del primero entre el segundo siendo el resultado solamente la parte entera de una división."
      ],
      "metadata": {
        "nteract": {
          "transient": {
            "deleting": false
          }
        }
      }
    },
    {
      "cell_type": "code",
      "source": [
        "33 // 5"
      ],
      "outputs": [],
      "execution_count": null,
      "metadata": {
        "collapsed": true,
        "jupyter": {
          "source_hidden": false,
          "outputs_hidden": false
        },
        "nteract": {
          "transient": {
            "deleting": false
          }
        },
        "execution": {
          "iopub.status.busy": "2020-09-23T20:58:11.638Z",
          "iopub.execute_input": "2020-09-23T20:58:11.724Z",
          "iopub.status.idle": "2020-09-23T20:58:11.899Z",
          "shell.execute_reply": "2020-09-23T20:58:11.981Z"
        }
      }
    },
    {
      "cell_type": "code",
      "source": [
        "22 // 3.3"
      ],
      "outputs": [],
      "execution_count": null,
      "metadata": {
        "collapsed": true,
        "jupyter": {
          "source_hidden": false,
          "outputs_hidden": false
        },
        "nteract": {
          "transient": {
            "deleting": false
          }
        },
        "execution": {
          "iopub.status.busy": "2020-09-23T20:59:56.803Z",
          "iopub.execute_input": "2020-09-23T20:59:56.955Z",
          "iopub.status.idle": "2020-09-23T20:59:57.222Z",
          "shell.execute_reply": "2020-09-23T20:59:57.349Z"
        }
      }
    },
    {
      "cell_type": "code",
      "source": [
        "var_1 = 44\n",
        "var_2 = 33\n",
        "var_1 // var_2"
      ],
      "outputs": [],
      "execution_count": null,
      "metadata": {
        "collapsed": true,
        "jupyter": {
          "source_hidden": false,
          "outputs_hidden": false
        },
        "nteract": {
          "transient": {
            "deleting": false
          }
        },
        "execution": {
          "iopub.status.busy": "2020-09-23T20:59:27.907Z",
          "iopub.execute_input": "2020-09-23T20:59:28.109Z",
          "iopub.status.idle": "2020-09-23T20:59:28.286Z",
          "shell.execute_reply": "2020-09-23T20:59:28.398Z"
        }
      }
    },
    {
      "cell_type": "code",
      "source": [
        "#Podemos encadenar divisiones enteras y se realizarán de izquierda a derecha\n",
        "1111 // 4 // 3 // 2"
      ],
      "outputs": [],
      "execution_count": null,
      "metadata": {
        "collapsed": true,
        "jupyter": {
          "source_hidden": false,
          "outputs_hidden": false
        },
        "nteract": {
          "transient": {
            "deleting": false
          }
        },
        "execution": {
          "iopub.status.busy": "2020-09-23T22:16:36.475Z",
          "iopub.execute_input": "2020-09-23T22:16:36.584Z",
          "iopub.status.idle": "2020-09-23T22:16:36.833Z",
          "shell.execute_reply": "2020-09-23T22:16:36.938Z"
        }
      }
    },
    {
      "cell_type": "code",
      "source": [
        "#La división entera por cero no está permitida\n",
        "44 // 0"
      ],
      "outputs": [],
      "execution_count": null,
      "metadata": {
        "collapsed": true,
        "jupyter": {
          "source_hidden": false,
          "outputs_hidden": false
        },
        "nteract": {
          "transient": {
            "deleting": false
          }
        },
        "execution": {
          "iopub.status.busy": "2020-09-23T21:03:25.798Z",
          "iopub.execute_input": "2020-09-23T21:03:25.887Z",
          "iopub.status.idle": "2020-09-23T21:03:26.070Z",
          "shell.execute_reply": "2020-09-23T21:03:26.160Z"
        }
      }
    },
    {
      "cell_type": "markdown",
      "source": [
        "## <center>Módulo</center>\n",
        "\n",
        "El módulo es una operación binaria, toma dos operandos y divide el valor del primero entre el segundo siendo el resultado el residuo de la división."
      ],
      "metadata": {
        "nteract": {
          "transient": {
            "deleting": false
          }
        }
      }
    },
    {
      "cell_type": "code",
      "source": [
        "#El 5 cabe 6 veces en el 33 (5 * 6 = 30) y sobran 3\n",
        "33 % 5"
      ],
      "outputs": [],
      "execution_count": null,
      "metadata": {
        "collapsed": true,
        "jupyter": {
          "source_hidden": false,
          "outputs_hidden": false
        },
        "nteract": {
          "transient": {
            "deleting": false
          }
        },
        "execution": {
          "iopub.status.busy": "2020-09-23T21:05:08.020Z",
          "iopub.execute_input": "2020-09-23T21:05:08.105Z",
          "iopub.status.idle": "2020-09-23T21:05:08.291Z",
          "shell.execute_reply": "2020-09-23T21:05:08.395Z"
        }
      }
    },
    {
      "cell_type": "code",
      "source": [
        "22 % 3.3"
      ],
      "outputs": [],
      "execution_count": null,
      "metadata": {
        "collapsed": true,
        "jupyter": {
          "source_hidden": false,
          "outputs_hidden": false
        },
        "nteract": {
          "transient": {
            "deleting": false
          }
        },
        "execution": {
          "iopub.status.busy": "2020-09-23T21:07:59.762Z",
          "iopub.execute_input": "2020-09-23T21:07:59.861Z",
          "iopub.status.idle": "2020-09-23T21:08:00.070Z",
          "shell.execute_reply": "2020-09-23T21:08:00.160Z"
        }
      }
    },
    {
      "cell_type": "code",
      "source": [
        "var_1 = 44\n",
        "var_2 = 33\n",
        "var_1 % var_2"
      ],
      "outputs": [],
      "execution_count": null,
      "metadata": {
        "collapsed": true,
        "jupyter": {
          "source_hidden": false,
          "outputs_hidden": false
        },
        "nteract": {
          "transient": {
            "deleting": false
          }
        },
        "execution": {
          "iopub.status.busy": "2020-09-23T21:09:54.269Z",
          "iopub.execute_input": "2020-09-23T21:09:54.374Z",
          "iopub.status.idle": "2020-09-23T21:09:54.570Z",
          "shell.execute_reply": "2020-09-23T21:09:54.667Z"
        }
      }
    },
    {
      "cell_type": "code",
      "source": [
        "#Podemos encadenar modulos y se realizarán de izquierda a derecha\n",
        "47 % 10 % 5 % 4"
      ],
      "outputs": [],
      "execution_count": null,
      "metadata": {
        "collapsed": true,
        "jupyter": {
          "source_hidden": false,
          "outputs_hidden": false
        },
        "nteract": {
          "transient": {
            "deleting": false
          }
        },
        "execution": {
          "iopub.status.busy": "2020-09-23T22:16:06.347Z",
          "iopub.execute_input": "2020-09-23T22:16:06.472Z",
          "iopub.status.idle": "2020-09-23T22:16:06.734Z",
          "shell.execute_reply": "2020-09-23T22:16:06.851Z"
        }
      }
    },
    {
      "cell_type": "code",
      "source": [
        "#El módulo por cero no está permitido\n",
        "33 % 0"
      ],
      "outputs": [],
      "execution_count": null,
      "metadata": {
        "collapsed": true,
        "jupyter": {
          "source_hidden": false,
          "outputs_hidden": false
        },
        "nteract": {
          "transient": {
            "deleting": false
          }
        },
        "execution": {
          "iopub.status.busy": "2020-09-23T21:14:29.623Z",
          "iopub.execute_input": "2020-09-23T21:14:29.719Z",
          "iopub.status.idle": "2020-09-23T21:14:30.142Z",
          "shell.execute_reply": "2020-09-23T21:14:30.233Z"
        }
      }
    },
    {
      "cell_type": "markdown",
      "source": [
        "## <center>Potencia</center>\n",
        "\n",
        "La potencia es una operación binaria, toma dos operandos y eleva el primer operando al exponente indicado por el segundo."
      ],
      "metadata": {
        "nteract": {
          "transient": {
            "deleting": false
          }
        }
      }
    },
    {
      "cell_type": "code",
      "source": [
        "2 ** 3"
      ],
      "outputs": [],
      "execution_count": null,
      "metadata": {
        "collapsed": true,
        "jupyter": {
          "source_hidden": false,
          "outputs_hidden": false
        },
        "nteract": {
          "transient": {
            "deleting": false
          }
        },
        "execution": {
          "iopub.status.busy": "2020-09-23T21:18:02.406Z",
          "iopub.execute_input": "2020-09-23T21:18:02.511Z",
          "iopub.status.idle": "2020-09-23T21:18:02.717Z",
          "shell.execute_reply": "2020-09-23T21:18:02.811Z"
        }
      }
    },
    {
      "cell_type": "code",
      "source": [
        "var_1 = 4\n",
        "var_2 = 2\n",
        "var_1 ** var_2"
      ],
      "outputs": [],
      "execution_count": null,
      "metadata": {
        "collapsed": true,
        "jupyter": {
          "source_hidden": false,
          "outputs_hidden": false
        },
        "nteract": {
          "transient": {
            "deleting": false
          }
        },
        "execution": {
          "iopub.status.busy": "2020-09-23T21:18:21.965Z",
          "iopub.execute_input": "2020-09-23T21:18:22.063Z",
          "iopub.status.idle": "2020-09-23T21:18:22.281Z",
          "shell.execute_reply": "2020-09-23T21:18:22.377Z"
        }
      }
    },
    {
      "cell_type": "code",
      "source": [
        "#Una raíz cuadrada\n",
        "36 ** 0.5"
      ],
      "outputs": [],
      "execution_count": null,
      "metadata": {
        "collapsed": true,
        "jupyter": {
          "source_hidden": false,
          "outputs_hidden": false
        },
        "nteract": {
          "transient": {
            "deleting": false
          }
        },
        "execution": {
          "iopub.status.busy": "2020-09-23T21:18:58.799Z",
          "iopub.execute_input": "2020-09-23T21:18:58.894Z",
          "iopub.status.idle": "2020-09-23T21:18:59.091Z",
          "shell.execute_reply": "2020-09-23T21:18:59.181Z"
        }
      }
    },
    {
      "cell_type": "code",
      "source": [
        "#Podemos encadenar potencias y se realizarán de derecha a izquierda\n",
        "2 ** 3 ** 4"
      ],
      "outputs": [],
      "execution_count": null,
      "metadata": {
        "collapsed": true,
        "jupyter": {
          "source_hidden": false,
          "outputs_hidden": false
        },
        "nteract": {
          "transient": {
            "deleting": false
          }
        },
        "execution": {
          "iopub.status.busy": "2020-09-23T22:14:27.937Z",
          "iopub.execute_input": "2020-09-23T22:14:28.051Z",
          "iopub.status.idle": "2020-09-23T22:14:28.298Z",
          "shell.execute_reply": "2020-09-23T22:14:28.411Z"
        }
      }
    },
    {
      "cell_type": "markdown",
      "source": [
        "## <center>Agrupar expresiones</center>\n",
        "\n",
        "Podemos agrupar expresiones y modificar las prioridades de los operadores haciendo uso de paréntesis. A continuación algunos ejemplos."
      ],
      "metadata": {
        "nteract": {
          "transient": {
            "deleting": false
          }
        }
      }
    },
    {
      "cell_type": "code",
      "source": [
        "(7-3)*4"
      ],
      "outputs": [],
      "execution_count": null,
      "metadata": {
        "collapsed": true,
        "jupyter": {
          "source_hidden": false,
          "outputs_hidden": false
        },
        "nteract": {
          "transient": {
            "deleting": false
          }
        },
        "execution": {
          "iopub.status.busy": "2020-09-23T22:25:38.344Z",
          "iopub.execute_input": "2020-09-23T22:25:38.444Z",
          "iopub.status.idle": "2020-09-23T22:25:38.643Z",
          "shell.execute_reply": "2020-09-23T22:25:38.737Z"
        }
      }
    },
    {
      "cell_type": "code",
      "source": [
        "#No es lo mismo que\n",
        "7-3*4"
      ],
      "outputs": [],
      "execution_count": null,
      "metadata": {
        "collapsed": true,
        "jupyter": {
          "source_hidden": false,
          "outputs_hidden": false
        },
        "nteract": {
          "transient": {
            "deleting": false
          }
        },
        "execution": {
          "iopub.status.busy": "2020-09-23T22:26:13.459Z",
          "iopub.execute_input": "2020-09-23T22:26:13.554Z",
          "iopub.status.idle": "2020-09-23T22:26:13.751Z",
          "shell.execute_reply": "2020-09-23T22:26:13.853Z"
        }
      }
    },
    {
      "cell_type": "code",
      "source": [
        "#No es lo mismo 2**3**4 que (2**3)**4\n",
        "2**3**4"
      ],
      "outputs": [],
      "execution_count": null,
      "metadata": {
        "collapsed": true,
        "jupyter": {
          "source_hidden": false,
          "outputs_hidden": false
        },
        "nteract": {
          "transient": {
            "deleting": false
          }
        },
        "execution": {
          "iopub.status.busy": "2020-09-23T22:27:50.556Z",
          "iopub.execute_input": "2020-09-23T22:27:50.656Z",
          "iopub.status.idle": "2020-09-23T22:27:50.856Z",
          "shell.execute_reply": "2020-09-23T22:27:50.954Z"
        }
      }
    },
    {
      "cell_type": "code",
      "source": [
        "(2**3)**4"
      ],
      "outputs": [],
      "execution_count": null,
      "metadata": {
        "collapsed": true,
        "jupyter": {
          "source_hidden": false,
          "outputs_hidden": false
        },
        "nteract": {
          "transient": {
            "deleting": false
          }
        },
        "execution": {
          "iopub.status.busy": "2020-09-23T22:28:01.747Z",
          "iopub.execute_input": "2020-09-23T22:28:01.851Z",
          "iopub.status.idle": "2020-09-23T22:28:02.061Z",
          "shell.execute_reply": "2020-09-23T22:28:02.165Z"
        }
      }
    },
    {
      "cell_type": "code",
      "source": [
        "#Una raíz cúbica\n",
        "27**(1/3)"
      ],
      "outputs": [],
      "execution_count": null,
      "metadata": {
        "collapsed": true,
        "jupyter": {
          "source_hidden": false,
          "outputs_hidden": false
        },
        "nteract": {
          "transient": {
            "deleting": false
          }
        },
        "execution": {
          "iopub.status.busy": "2020-09-23T22:30:11.288Z",
          "iopub.execute_input": "2020-09-23T22:30:11.399Z",
          "iopub.status.idle": "2020-09-23T22:30:11.611Z",
          "shell.execute_reply": "2020-09-23T22:30:11.709Z"
        }
      }
    },
    {
      "cell_type": "markdown",
      "source": [
        "## <center>Operaciones Aritméticas con Cadenas</center>\n",
        "\n",
        "Python soporta sumas de cadenas (**concatenaciones**) y multiplicación de una cadena por un entero.\n",
        "\n",
        "En una concatenación las dos cadenas se unen para formar una.\n",
        "Si multiplicamos una cadena por un entero, la cadena se replica y concatena la cantidad de veces indicada por el entero."
      ],
      "metadata": {
        "nteract": {
          "transient": {
            "deleting": false
          }
        }
      }
    },
    {
      "cell_type": "code",
      "source": [
        "'Hola' + 'mundo'"
      ],
      "outputs": [],
      "execution_count": null,
      "metadata": {
        "collapsed": true,
        "jupyter": {
          "source_hidden": false,
          "outputs_hidden": false
        },
        "nteract": {
          "transient": {
            "deleting": false
          }
        },
        "execution": {
          "iopub.status.busy": "2020-09-23T22:49:34.500Z",
          "iopub.execute_input": "2020-09-23T22:49:34.591Z",
          "iopub.status.idle": "2020-09-23T22:49:34.803Z",
          "shell.execute_reply": "2020-09-23T22:49:34.896Z"
        }
      }
    },
    {
      "cell_type": "code",
      "source": [
        "'Hola' * 5"
      ],
      "outputs": [],
      "execution_count": null,
      "metadata": {
        "collapsed": true,
        "jupyter": {
          "source_hidden": false,
          "outputs_hidden": false
        },
        "nteract": {
          "transient": {
            "deleting": false
          }
        },
        "execution": {
          "iopub.status.busy": "2020-09-23T22:49:44.917Z",
          "iopub.execute_input": "2020-09-23T22:49:45.041Z",
          "iopub.status.idle": "2020-09-23T22:49:45.294Z",
          "shell.execute_reply": "2020-09-23T22:49:45.409Z"
        }
      }
    },
    {
      "cell_type": "code",
      "source": [
        "#¡Práctica y puntos de regalo!\n",
        "#¿De que forma podemos utilizar los números 5, 21, 33 y 77 y los operadores //, +, * para obtener 462?\n",
        "\n",
        "#Sé una o uno de los tres primeros en contestar y llévate 2 puntos extra sobre tu calificación final. Entrega tu respuesta como un comentario en la publicación de este notebook en classroom.\n",
        "\n",
        "#Tip, los números no necesariamente deben usarse en ese orden, tampoco los operadores y tendrás que utilizar paréntesis para romper precedencia de operadores.\n",
        "\n",
        "#Escribe aquí tu operación y presiona el botón de Run tantas veces necesites."
      ],
      "outputs": [],
      "execution_count": null,
      "metadata": {
        "collapsed": true,
        "jupyter": {
          "source_hidden": false,
          "outputs_hidden": false
        },
        "nteract": {
          "transient": {
            "deleting": false
          }
        }
      }
    }
  ],
  "metadata": {
    "kernel_info": {
      "name": "venv"
    },
    "language_info": {
      "name": "python",
      "version": "3.7.3",
      "mimetype": "text/x-python",
      "codemirror_mode": {
        "name": "ipython",
        "version": 3
      },
      "pygments_lexer": "ipython3",
      "nbconvert_exporter": "python",
      "file_extension": ".py"
    },
    "kernelspec": {
      "argv": [
        "/home/fel/Documents/Profesor/nteract/venv/bin/python",
        "-m",
        "ipykernel_launcher",
        "-f",
        "{connection_file}"
      ],
      "display_name": "venv",
      "language": "python",
      "name": "venv"
    },
    "nteract": {
      "version": "0.25.0"
    }
  },
  "nbformat": 4,
  "nbformat_minor": 0
}