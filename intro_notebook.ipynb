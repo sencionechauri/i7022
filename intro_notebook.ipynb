{
  "cells": [
    {
      "cell_type": "markdown",
      "source": [
        "# <center>¿Qué es un notebook?</center>"
      ],
      "metadata": {
        "nteract": {
          "transient": {
            "deleting": false
          }
        }
      }
    },
    {
      "cell_type": "markdown",
      "source": [
        "Un notebook es un documento que te permite combinar secciones de texto, imagen, audio y vídeo con secciones de código interpretado. Por ejemplo si ejecutaramos la siguiente celda podríamos reproducir el vídeo de bienvenida."
      ],
      "metadata": {
        "nteract": {
          "transient": {
            "deleting": false
          }
        }
      }
    },
    {
      "cell_type": "code",
      "source": [
        "%%html\n",
        "<center><iframe src=\"https://drive.google.com/file/d/1CwfAuvlp26G-nRvgREHrFLVZ4a_JjHWs/preview\" width=\"320\" height=\"240\"></iframe></center>\n",
        "<center><b>Vídeo de bienvenida</b></center>"
      ],
      "outputs": [],
      "execution_count": null,
      "metadata": {
        "collapsed": true,
        "jupyter": {
          "source_hidden": false,
          "outputs_hidden": false
        },
        "nteract": {
          "transient": {
            "deleting": false
          }
        },
        "execution": {
          "iopub.status.busy": "2020-09-10T04:20:48.429Z",
          "iopub.execute_input": "2020-09-10T04:20:48.453Z",
          "iopub.status.idle": "2020-09-10T04:20:48.706Z",
          "shell.execute_reply": "2020-09-10T04:20:48.731Z"
        }
      }
    },
    {
      "cell_type": "markdown",
      "source": [
        "Este tipo de notebooks nos serán de gran utilidad a lo largo del curso porque podremos integrar tanto celdas con teoría y explicaciones como celdas con código y vídeos auxiliares en el aprendizaje"
      ],
      "metadata": {
        "nteract": {
          "transient": {
            "deleting": false
          }
        }
      }
    },
    {
      "cell_type": "markdown",
      "source": [
        "Dentro de los notebooks podremos hacer pruebas rápidas de nuestro código y el editor Atom lo estaremos utilizando para las actividades que deban entregarse en la plataforma google classroom. Dentro del editor Atom crearemos nuestros archivos con código llamados _scripts_ y esos archivos serán los que entregarás en la plataforma."
      ],
      "metadata": {
        "nteract": {
          "transient": {
            "deleting": false
          }
        }
      }
    }
  ],
  "metadata": {
    "kernel_info": {
      "name": "python3"
    },
    "language_info": {
      "name": "python",
      "version": "3.7.3",
      "mimetype": "text/x-python",
      "codemirror_mode": {
        "name": "ipython",
        "version": 3
      },
      "pygments_lexer": "ipython3",
      "nbconvert_exporter": "python",
      "file_extension": ".py"
    },
    "kernelspec": {
      "argv": [
        "python",
        "-m",
        "ipykernel_launcher",
        "-f",
        "{connection_file}"
      ],
      "display_name": "Python 3",
      "language": "python",
      "name": "python3"
    },
    "nteract": {
      "version": "0.25.0"
    }
  },
  "nbformat": 4,
  "nbformat_minor": 0
}