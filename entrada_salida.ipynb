{
  "cells": [
    {
      "cell_type": "markdown",
      "source": [
        "# <center>Entrada y Salida</center>"
      ],
      "metadata": {
        "nteract": {
          "transient": {
            "deleting": false
          }
        }
      }
    },
    {
      "cell_type": "markdown",
      "source": [
        "Parte importante de la ejecución de los programas depende de la interacción con los usuarios; en este cuaderno veremos cómo podemos mostrar mensajes en la pantalla y obtener datos por parte del usuario."
      ],
      "metadata": {
        "nteract": {
          "transient": {
            "deleting": false
          }
        }
      }
    },
    {
      "cell_type": "markdown",
      "source": [
        "# <center>Salida - print()</center>\n",
        "\n",
        "Si deseamos mostrar datos en la pantalla debemos utilzar el procedimiento **print()** y dentro de los paréntesis el mensaje que deseamos mostrar."
      ],
      "metadata": {
        "nteract": {
          "transient": {
            "deleting": false
          }
        }
      }
    },
    {
      "cell_type": "code",
      "source": [
        "print('Hola Python!')"
      ],
      "outputs": [],
      "execution_count": null,
      "metadata": {
        "collapsed": true,
        "jupyter": {
          "source_hidden": false,
          "outputs_hidden": false
        },
        "nteract": {
          "transient": {
            "deleting": false
          }
        },
        "execution": {
          "iopub.status.busy": "2020-09-18T02:13:57.421Z",
          "iopub.execute_input": "2020-09-18T02:13:57.449Z",
          "iopub.status.idle": "2020-09-18T02:13:57.499Z",
          "shell.execute_reply": "2020-09-18T02:13:57.529Z"
        }
      }
    },
    {
      "cell_type": "markdown",
      "source": [
        "Existen distintas formas en las que podemos utilizar el procedimiento **print()**, si deseamos mostrar el valor de una sola variable podemos escribir entre los paréntesis la variable sin importar el tipo de dato del que se trate."
      ],
      "metadata": {
        "nteract": {
          "transient": {
            "deleting": false
          }
        }
      }
    },
    {
      "cell_type": "code",
      "source": [
        "nombre = 'José Nava'\n",
        "edad = 33\n",
        "print(nombre)\n",
        "print(edad)"
      ],
      "outputs": [],
      "execution_count": null,
      "metadata": {
        "collapsed": true,
        "jupyter": {
          "source_hidden": false,
          "outputs_hidden": false
        },
        "nteract": {
          "transient": {
            "deleting": false
          }
        },
        "execution": {
          "iopub.status.busy": "2020-09-24T00:14:33.476Z",
          "iopub.execute_input": "2020-09-24T00:14:33.535Z",
          "iopub.status.idle": "2020-09-24T00:14:33.678Z",
          "shell.execute_reply": "2020-09-24T00:14:33.741Z"
        }
      }
    },
    {
      "cell_type": "markdown",
      "source": [
        "Si queremos hacer impresiones con más información en las que podamos mezclar texto y variables podemos hacer una impresión con formato, para ello dentro de los paréntesis escribimos una f (para indicar formato) seguida de una cadena de texto en la cual cada variable que quisieramos imprimir debe estar enmarcada entre llaves."
      ],
      "metadata": {
        "nteract": {
          "transient": {
            "deleting": false
          }
        }
      }
    },
    {
      "cell_type": "code",
      "source": [
        "print(f'Nombre: {nombre}') #{nombre} indica que en esa posición de la cadena se debe mostrar el valor que guarda la variable nombre\n",
        "print(f'Edad: {edad} años') #la variable edad previamente declarada se imprime entre Edad: y años"
      ],
      "outputs": [],
      "execution_count": null,
      "metadata": {
        "collapsed": true,
        "jupyter": {
          "source_hidden": false,
          "outputs_hidden": false
        },
        "nteract": {
          "transient": {
            "deleting": false
          }
        },
        "execution": {
          "iopub.status.busy": "2020-09-24T00:14:36.948Z",
          "iopub.execute_input": "2020-09-24T00:14:37.010Z",
          "iopub.status.idle": "2020-09-24T00:14:37.131Z",
          "shell.execute_reply": "2020-09-24T00:14:37.189Z"
        }
      }
    },
    {
      "cell_type": "markdown",
      "source": [
        "Podemos imprimir variables de cualquier tipo, e incluso imprimir directamente el resultado de operaciones."
      ],
      "metadata": {
        "nteract": {
          "transient": {
            "deleting": false
          }
        }
      }
    },
    {
      "cell_type": "code",
      "source": [
        "print(f'2 / 3 = {2 / 3}')"
      ],
      "outputs": [],
      "execution_count": null,
      "metadata": {
        "collapsed": true,
        "jupyter": {
          "source_hidden": false,
          "outputs_hidden": false
        },
        "nteract": {
          "transient": {
            "deleting": false
          }
        },
        "execution": {
          "iopub.status.busy": "2020-09-24T00:16:56.897Z",
          "iopub.execute_input": "2020-09-24T00:16:56.940Z",
          "iopub.status.idle": "2020-09-24T00:16:57.042Z",
          "shell.execute_reply": "2020-09-24T00:16:57.098Z"
        }
      }
    },
    {
      "cell_type": "markdown",
      "source": [
        "Si nuestro resultado tiene cifras decimales y queremos que sólo muestre cierta cantidad de ellas, podemos acerlo especificando el formato dentro de las llaves {}."
      ],
      "metadata": {
        "nteract": {
          "transient": {
            "deleting": false
          }
        }
      }
    },
    {
      "cell_type": "code",
      "source": [
        "#realiza pruebas modificando el .4 por otro valor\n",
        "print(f'2 / 3 = {2 / 3 :.4f}')"
      ],
      "outputs": [],
      "execution_count": null,
      "metadata": {
        "collapsed": true,
        "jupyter": {
          "source_hidden": false,
          "outputs_hidden": false
        },
        "nteract": {
          "transient": {
            "deleting": false
          }
        },
        "execution": {
          "iopub.status.busy": "2020-09-24T00:19:11.726Z",
          "iopub.execute_input": "2020-09-24T00:19:11.765Z",
          "iopub.status.idle": "2020-09-24T00:19:11.875Z",
          "shell.execute_reply": "2020-09-24T00:19:11.928Z"
        }
      }
    },
    {
      "cell_type": "markdown",
      "source": [
        "# <center>Entrada - input()</center>\n",
        "\n",
        "Para solicitar datos de entrada por parte del usuario utilizamos la función **input()**. Al igual que print() hay distintas formas de utilizar la función de entrada.\n",
        "\n",
        "\n",
        "Si no escribimos nada entre los paréntesis simplemente el programa quedará esperando por una entrada del usuario sin proveer un mensaje; si por el contrario entre los paréntesis escribimos un mensaje entre comillas entonces ese mensaje le será mostrado al usuario como indicación de qué se espera como entrada. La entrada de datos termina cuando presionamos *enter*."
      ],
      "metadata": {
        "nteract": {
          "transient": {
            "deleting": false
          }
        }
      }
    },
    {
      "cell_type": "code",
      "source": [
        "input() #El programa espera entrada por parte del usuario"
      ],
      "outputs": [],
      "execution_count": null,
      "metadata": {
        "collapsed": true,
        "jupyter": {
          "source_hidden": false,
          "outputs_hidden": false
        },
        "nteract": {
          "transient": {
            "deleting": false
          }
        },
        "execution": {
          "iopub.status.busy": "2020-09-24T00:20:25.712Z",
          "iopub.execute_input": "2020-09-24T00:20:25.767Z",
          "iopub.status.idle": "2020-09-24T00:20:31.327Z",
          "shell.execute_reply": "2020-09-24T00:20:31.413Z"
        }
      }
    },
    {
      "cell_type": "code",
      "source": [
        "input('Escribe un mensaje: ') #El programa espera entrada por parte del usuario y le muestra 'Escribe un mensaje: '"
      ],
      "outputs": [],
      "execution_count": null,
      "metadata": {
        "collapsed": true,
        "jupyter": {
          "source_hidden": false,
          "outputs_hidden": false
        },
        "nteract": {
          "transient": {
            "deleting": false
          }
        },
        "execution": {
          "iopub.status.busy": "2020-09-24T00:20:42.915Z",
          "iopub.execute_input": "2020-09-24T00:20:42.978Z",
          "iopub.status.idle": "2020-09-24T00:20:49.147Z",
          "shell.execute_reply": "2020-09-24T00:20:49.223Z"
        }
      }
    },
    {
      "cell_type": "markdown",
      "source": [
        "Si queremos almacenar la información ingresada por el usuario debemos asignarla a una variable e independientemente de qué escriba el usuario será interpretado como una cadena."
      ],
      "metadata": {
        "nteract": {
          "transient": {
            "deleting": false
          }
        }
      }
    },
    {
      "cell_type": "code",
      "source": [
        "cadena = input('Escribe una frase: ')\n",
        "numero = input('Escribe un número')\n",
        "# Ahora mostremos el tipo de dato de las variables ingresadas por el usuario\n",
        "print(f'cadena es de tipo: {type(cadena)}')\n",
        "print(f'numero es de tipo: {type(numero)}')"
      ],
      "outputs": [],
      "execution_count": null,
      "metadata": {
        "collapsed": true,
        "jupyter": {
          "source_hidden": false,
          "outputs_hidden": false
        },
        "nteract": {
          "transient": {
            "deleting": false
          }
        },
        "execution": {
          "iopub.status.busy": "2020-09-24T00:21:10.553Z",
          "iopub.execute_input": "2020-09-24T00:21:10.605Z",
          "iopub.status.idle": "2020-09-24T00:21:22.282Z",
          "shell.execute_reply": "2020-09-24T00:21:22.356Z"
        }
      }
    },
    {
      "cell_type": "markdown",
      "source": [
        "Si queremos que la información ingresada sea interpretada como un valor numérico (o de algún otro tipo) entonces debemos convertirla al tipo correspondiente."
      ],
      "metadata": {
        "nteract": {
          "transient": {
            "deleting": false
          }
        }
      }
    },
    {
      "cell_type": "code",
      "source": [
        "entero = input('Escribe un número entero: ') #Solicitamos un valor\n",
        "entero = int(entero) #Reemplazamos el valor en entero por su representación como número entero\n",
        "real = input('Escribe un número real: ')\n",
        "real = float(real) #Reemplazamos el valor en real por su representación como número de coma flotante\n",
        "\n",
        "#Mostramos el tipo de dato de las variables\n",
        "print(f'entero es de tipo: {type(entero)}')\n",
        "print(f'real es de tipo: {type(real)}')"
      ],
      "outputs": [],
      "execution_count": null,
      "metadata": {
        "collapsed": true,
        "jupyter": {
          "source_hidden": false,
          "outputs_hidden": false
        },
        "nteract": {
          "transient": {
            "deleting": false
          }
        },
        "execution": {
          "iopub.status.busy": "2020-09-24T00:22:01.691Z",
          "iopub.execute_input": "2020-09-24T00:22:01.731Z",
          "iopub.status.idle": "2020-09-24T00:22:11.907Z",
          "shell.execute_reply": "2020-09-24T00:22:11.983Z"
        }
      }
    },
    {
      "cell_type": "code",
      "source": [
        "#Veamos un ejemplo de lo que puede lograr Python\n",
        "nombre = input('¿Cómo te llamas? ')\n",
        "print(f'Hola {nombre}, vamos a jugar... piensa en un número')\n",
        "input('Presiona enter cuando estés listo')\n",
        "print('Ahora multiplica ese número por dos')\n",
        "input('Presiona enter cuando estés listo')\n",
        "print(f'Muy bien {nombre}, ahora súmale 10 a ese valor')\n",
        "input('Presiona enter cuando estés listo')\n",
        "print('Divide ese número por dos')\n",
        "input(f'Presiona enter cuando estés listo {nombre}')\n",
        "print('A esa cantidad restale tu número inicial')\n",
        "input('Presiona enter cuando estés listo')\n",
        "print('El número que tienes en la mente es... 5 :V')\n",
        "input('Presiona enter para terminar')"
      ],
      "outputs": [],
      "execution_count": null,
      "metadata": {
        "collapsed": true,
        "jupyter": {
          "source_hidden": false,
          "outputs_hidden": false
        },
        "nteract": {
          "transient": {
            "deleting": false
          }
        },
        "execution": {
          "iopub.status.busy": "2020-09-18T03:10:05.874Z",
          "iopub.execute_input": "2020-09-18T03:10:05.905Z",
          "iopub.status.idle": "2020-09-18T03:10:55.171Z",
          "shell.execute_reply": "2020-09-18T03:10:55.211Z"
        }
      }
    },
    {
      "cell_type": "markdown",
      "source": [
        "Acá te dejo el <a href=\"https://drive.google.com/file/d/1G6om6i1sY0kIeiDlk8_FUabI6EUgEdwe/view?usp=sharing\">enlace</a> a programas con el código hecho para este notebook. Para usarlos en tu equipo puedes abrir cada archivo .py en tu editor y correrlo desde ahí."
      ],
      "metadata": {
        "nteract": {
          "transient": {
            "deleting": false
          }
        }
      }
    }
  ],
  "metadata": {
    "kernel_info": {
      "name": "venv"
    },
    "language_info": {
      "name": "python",
      "version": "3.7.3",
      "mimetype": "text/x-python",
      "codemirror_mode": {
        "name": "ipython",
        "version": 3
      },
      "pygments_lexer": "ipython3",
      "nbconvert_exporter": "python",
      "file_extension": ".py"
    },
    "kernelspec": {
      "argv": [
        "/home/fel/Documents/Profesor/nteract/venv/bin/python",
        "-m",
        "ipykernel_launcher",
        "-f",
        "{connection_file}"
      ],
      "display_name": "venv",
      "language": "python",
      "name": "venv"
    },
    "nteract": {
      "version": "0.25.0"
    }
  },
  "nbformat": 4,
  "nbformat_minor": 0
}