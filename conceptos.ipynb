{
  "cells": [
    {
      "cell_type": "markdown",
      "source": [
        "# <center>Conceptos</center>"
      ],
      "metadata": {
        "nteract": {
          "transient": {
            "deleting": false
          }
        }
      }
    },
    {
      "cell_type": "code",
      "source": [
        "%%html\n",
        "<center><iframe src=\"https://drive.google.com/file/d/1J4RnOvhncXxZm9pEXc5A7n-eI1ptXtx-/preview\" width=\"320\" height=\"240\"></iframe></center>\n",
        "<center><h3>Vídeo</center>"
      ],
      "outputs": [],
      "execution_count": null,
      "metadata": {
        "collapsed": true,
        "jupyter": {
          "source_hidden": false,
          "outputs_hidden": false
        },
        "nteract": {
          "transient": {
            "deleting": false
          }
        }
      }
    },
    {
      "cell_type": "markdown",
      "source": [
        "## <center>Programa</center>\n",
        "\n",
        "* Un plan de acción para lograr un fín específico.\n",
        "* Un plan o calendario de actividades, procedimientos, etc., a ser seguidos."
      ],
      "metadata": {
        "nteract": {
          "transient": {
            "deleting": false
          }
        }
      }
    },
    {
      "cell_type": "markdown",
      "source": [
        "Las dos definiciones anteriores cubren un espectro muy amplio y no restringen el concepto de programa al mundo de la computación, por ejemplo podemos mencionar un programa alimenticio o el programa de actividades de un festival etc. \n",
        "\n",
        "En las ciencias computacionales *tomamos prestado* el concepto y lo hacemos propio de forma tal que sea el conjunto de instrucciones que debe seguir una computadora para lograr un fin específico."
      ],
      "metadata": {
        "nteract": {
          "transient": {
            "deleting": false
          }
        }
      }
    },
    {
      "cell_type": "markdown",
      "source": [
        "## <center>Algoritmo</center>\n",
        "\n",
        "* Un conjunto de reglas para resolver un problema en un número finito de pasos. \n",
        "\n",
        "* Un conjunto ordenado de instrucciones aplicadas para transformar datos de entrada en datos procesados de salida."
      ],
      "metadata": {
        "nteract": {
          "transient": {
            "deleting": false
          }
        }
      }
    },
    {
      "cell_type": "markdown",
      "source": [
        "Si bien es cierto la definición anterior podría llevarnos a la siguiente conclusión:\n",
        "\n",
        "<center><img src=\"https://i.imgflip.com/4eztzf.jpg\"/></center>\n",
        "\n",
        "La verdad es que la afirmación anterior **no** es del todo correcta. El concepto de algoritmo es aplicado en las áreas de las matemáticas y la computación mientras que el de programa es más general. "
      ],
      "metadata": {
        "nteract": {
          "transient": {
            "deleting": false
          }
        }
      }
    },
    {
      "cell_type": "markdown",
      "source": [
        "## <center>Código</center>\n",
        "\n",
        "* Un sistema de señales o símbolos para comunicación.\n",
        "* Instrucciones para una computadora.\n",
        "* La información que constituye un programa específico de computadora."
      ],
      "metadata": {
        "nteract": {
          "transient": {
            "deleting": false
          }
        }
      }
    },
    {
      "cell_type": "markdown",
      "source": [
        "## <center>Pseudocódigo</center>\n",
        "\n",
        "En el ámbito de la computación el pseudocódigo es una herramienta que nos permite describir algoritmos con la estructura que tendría un programa de computadora y lenguaje natural de forma tal que sea fácil de entender por el lector evitando ambigüedades.\n",
        "\n",
        "Por ejemplo el siguiente pseudocódigo representa un algoritmo que calcula y muestra el área de un tríangulo:\n",
        "\n",
        "**leer** base<br>\n",
        "**leer** altura<br>\n",
        "**area** <- base * altura / 2<br>\n",
        "**imprimir** area<br>"
      ],
      "metadata": {
        "nteract": {
          "transient": {
            "deleting": false
          }
        }
      }
    },
    {
      "cell_type": "markdown",
      "source": [
        "## <center>Diagrama de Flujo</center>\n",
        "\n",
        "Son muy útiles al momento de escribir un programa y explicarlo a los demás. Su principal desventaja es que su tamaño crecen múy rapidamente.\n",
        "\n",
        "Los símbolos en un diagrama de flujo representan las distintas acciones de un programa."
      ],
      "metadata": {
        "nteract": {
          "transient": {
            "deleting": false
          }
        }
      }
    },
    {
      "cell_type": "markdown",
      "source": [
        "Símbolo | Propósito | Descripción\n",
        "--- | --- | ---\n",
        "![Línea](https://raw.githubusercontent.com/sencionechauri/i9878/master/media/flecha.png \"Línea de Flujo\") | Línea de Flujo | Se usa para indicar el flujo del programa al conectar símbolos.\n",
        "![Terminal](https://raw.githubusercontent.com/sencionechauri/i9878/master/media/inicio_fin.png \"Terminal\") | Terminal (inicio / fin) | Se usa para representar el inicio y fin de un diagrama de flujo.\n",
        "![Entrada Salida](https://raw.githubusercontent.com/sencionechauri/i9878/master/media/entrada_salida.png \"Entrada y Salida\") | Entrada / Salida | Se usa para operaciones de entrada y salida de datos.\n",
        "![Proceso](https://raw.githubusercontent.com/sencionechauri/i9878/master/media/proceso.png \"Procesamiento\") | Procesamiento | Se usa para operaciones aritméticas y manipulación de datos.\n",
        "![Decisión](https://raw.githubusercontent.com/sencionechauri/i9878/master/media/decision.png \"Decisión\") | Decisión | Se utiliza para representar una decisión en base a dos opciones, verdadero y falso.\n",
        "![Conector](https://raw.githubusercontent.com/sencionechauri/i9878/master/media/conector.png \"Conector\") | Conector dentro de página | Se utiliza para conectar dos líneas de flujo.\n",
        "![Conector fuera](https://raw.githubusercontent.com/sencionechauri/i9878/master/media/conector_fuera.png \"Conector fuera de página\") | Conector fuera de página | Se utiliza para conectar el flujo de programa a otra página.\n",
        "![Proceso predefinido](https://raw.githubusercontent.com/sencionechauri/i9878/master/media/proceso_predefinido.png \"Proceso Predefinido\") | Proceso predefinido | Se utiliza para representar un grupo de instrucciones que realizan una tarea."
      ],
      "metadata": {
        "nteract": {
          "transient": {
            "deleting": false
          }
        }
      }
    },
    {
      "cell_type": "markdown",
      "source": [
        "El diagrama de flujo equivalente al programa para calcular el área de un triángulo es el siguiente:\n",
        "\n",
        "<center><img src=\"https://raw.githubusercontent.com/sencionechauri/i7022/master/media/diagrama_flujo.png\"/></center>"
      ],
      "metadata": {
        "nteract": {
          "transient": {
            "deleting": false
          }
        }
      }
    },
    {
      "cell_type": "markdown",
      "source": [
        "## <center>Lenguaje de Programación</center>\n",
        "\n",
        "* Un lenguaje artificial utilizado para escribir instrucciones que pueden ser traducidas en lenguaje máquina y después ejecutadas por una computadora.\n",
        "\n",
        "Un lenguaje tiene tanto sintáxis (forma) como semántica (significado) y ambas establecen reglas para definir qué es correcto o no dentro del lenguaje.\n",
        "Algunos autores definen al concepto de lenguaje de programación como *la herramienta con la cual los programadores desarrollan su arte*. "
      ],
      "metadata": {
        "nteract": {
          "transient": {
            "deleting": false
          }
        }
      }
    },
    {
      "cell_type": "code",
      "source": [
        "%%html\n",
        "<center><iframe src=\"https://drive.google.com/file/d/1oF_s5Pz8vNvp9yqkPsEcm_y-u1TPN5P7/preview\" width=\"320\" height=\"240\"></iframe></center>\n",
        "<center><h3>Vídeo</center>"
      ],
      "outputs": [],
      "execution_count": null,
      "metadata": {
        "collapsed": true,
        "jupyter": {
          "source_hidden": false,
          "outputs_hidden": false
        },
        "nteract": {
          "transient": {
            "deleting": false
          }
        }
      }
    }
  ],
  "metadata": {
    "kernel_info": {
      "name": "python3"
    },
    "language_info": {
      "name": "python",
      "version": "3.7.3",
      "mimetype": "text/x-python",
      "codemirror_mode": {
        "name": "ipython",
        "version": 3
      },
      "pygments_lexer": "ipython3",
      "nbconvert_exporter": "python",
      "file_extension": ".py"
    },
    "kernelspec": {
      "argv": [
        "python",
        "-m",
        "ipykernel_launcher",
        "-f",
        "{connection_file}"
      ],
      "display_name": "Python 3",
      "language": "python",
      "name": "python3"
    },
    "nteract": {
      "version": "0.25.0"
    }
  },
  "nbformat": 4,
  "nbformat_minor": 0
}